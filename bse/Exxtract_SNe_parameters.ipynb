{
 "cells": [
  {
   "cell_type": "code",
   "execution_count": 29,
   "id": "554818a3-a01b-4379-a783-c2e5c4f5e464",
   "metadata": {},
   "outputs": [],
   "source": [
    "import pickle\n",
    "import matplotlib.pyplot as plt"
   ]
  },
  {
   "cell_type": "code",
   "execution_count": 51,
   "id": "72c8eaa6-97fc-43e8-9a52-dce3612a92db",
   "metadata": {},
   "outputs": [],
   "source": [
    "with open('../Desktop/SNe_parameters.pickle', 'rb') as handle:\n",
    "    b = pickle.load(handle)"
   ]
  },
  {
   "cell_type": "code",
   "execution_count": 52,
   "id": "747a2628-0b81-476d-9675-d2b20ccbaf59",
   "metadata": {},
   "outputs": [
    {
     "data": {
      "text/plain": [
       "91"
      ]
     },
     "execution_count": 52,
     "metadata": {},
     "output_type": "execute_result"
    }
   ],
   "source": [
    "len(b)"
   ]
  },
  {
   "cell_type": "code",
   "execution_count": 4,
   "id": "2dfe0d73-b5d9-432c-a1d7-ba371eee8c80",
   "metadata": {},
   "outputs": [
    {
     "ename": "IndexError",
     "evalue": "list index out of range",
     "output_type": "error",
     "traceback": [
      "\u001b[0;31m---------------------------------------------------------------------------\u001b[0m",
      "\u001b[0;31mIndexError\u001b[0m                                Traceback (most recent call last)",
      "\u001b[0;32m<ipython-input-4-0c9d02c55e9c>\u001b[0m in \u001b[0;36m<module>\u001b[0;34m\u001b[0m\n\u001b[0;32m----> 1\u001b[0;31m \u001b[0;34m(\u001b[0m\u001b[0mb\u001b[0m\u001b[0;34m[\u001b[0m\u001b[0;36m177\u001b[0m\u001b[0;34m]\u001b[0m\u001b[0;34m[\u001b[0m\u001b[0;36m1\u001b[0m\u001b[0;34m]\u001b[0m\u001b[0;34m)\u001b[0m\u001b[0;34m\u001b[0m\u001b[0;34m\u001b[0m\u001b[0m\n\u001b[0m",
      "\u001b[0;31mIndexError\u001b[0m: list index out of range"
     ]
    }
   ],
   "source": [
    "(b[177][1])"
   ]
  },
  {
   "cell_type": "code",
   "execution_count": null,
   "id": "285166d8-91b7-4d3e-8226-9119e5426ac4",
   "metadata": {},
   "outputs": [],
   "source": [
    "CE_systems=[]\n",
    "Collision_systems=[]\n",
    "for i in range(len(b)):\n",
    "    print('i',i)\n",
    "    CE_system=[]\n",
    "    Collision=[]\n",
    "    for j in range(len(b[i][0])):\n",
    "        if b[i][0][j]['event_flag'] == 7:\n",
    "            #print(b[i][0][j]['event_flag'])\n",
    "            CE_system.append([b[i][0],b[i][1]])\n",
    "        if b[i][0][j]['event_flag'] == 9:\n",
    "            #print(b[i][0][j]['event_flag'])\n",
    "            Collision.append([b[i][0],b[i][1]])\n",
    "        \n",
    "    if len(CE_system) !=0:\n",
    "        CE_systems.append(CE_system)\n",
    "    if len(Collision) !=0:\n",
    "        Collision_systems.append(Collision)"
   ]
  },
  {
   "cell_type": "code",
   "execution_count": null,
   "id": "24221173-c3ee-4bd7-95dc-5b256e384bad",
   "metadata": {},
   "outputs": [],
   "source": [
    "len(CE_systems),len(Collision_systems)"
   ]
  },
  {
   "cell_type": "code",
   "execution_count": null,
   "id": "c2ade310-2906-4231-953c-20f697db21eb",
   "metadata": {},
   "outputs": [],
   "source": [
    "Collision_systems[1][0][1]"
   ]
  },
  {
   "cell_type": "code",
   "execution_count": null,
   "id": "b2e05651-8600-44d4-ad70-98af29078be1",
   "metadata": {},
   "outputs": [],
   "source": [
    "q=[]\n",
    "for i in range(len(b)):\n",
    "    print('i',i)\n",
    "    if i !=1:\n",
    "        for j in range(len(b[i][0])):\n",
    "            if b[i][0][j]['SNe_info'] == 2:\n",
    "                print(b[i][0][j]['particles'][0].mass) \n",
    "                m1= b[i][0][j]['particles'][0].mass\n",
    "                m2= b[i][0][j]['particles'][1].mass\n",
    "                m3= b[i][0][j]['particles'][2].mass\n",
    "                q.append(m3/(m1+m2))"
   ]
  },
  {
   "cell_type": "code",
   "execution_count": null,
   "id": "73388e62-6967-4f15-ace4-26e416a7404b",
   "metadata": {},
   "outputs": [],
   "source": [
    "for i in range(len(b)):\n",
    "    print('i',i)\n",
    "    for j in range(len(b[i][0])):\n",
    "        if b[i][0][j]['SNe_info'] == 2:\n",
    "            print(b[i][0][j])"
   ]
  },
  {
   "cell_type": "code",
   "execution_count": null,
   "id": "406a96e4-3892-4bd8-bba3-639d5df1167f",
   "metadata": {},
   "outputs": [],
   "source": [
    "binary=[]\n",
    "q=[]\n",
    "for i in range(len(b)):\n",
    "    print('i',i)\n",
    "    for j in range(len(b[i][0])):\n",
    "        if b[i][0][j]['SNe_info'] == 2:\n",
    "            if (b[i][0][j]['N_particles']) ==2:\n",
    "                binary.append(b[i][1])\n",
    "            elif (b[i][0][j]['N_particles']) >=3:\n",
    "                print(b[i][0][j]['particles'][0].mass) \n",
    "                m1= b[i][0][j]['particles'][0].mass\n",
    "                m2= b[i][0][j]['particles'][1].mass\n",
    "                m3= b[i][0][j]['particles'][2].mass\n",
    "                q.append(m3/(m1+m2))\n",
    "            else:\n",
    "                print('yay!, there is some weird system')"
   ]
  },
  {
   "cell_type": "code",
   "execution_count": null,
   "id": "018a5879-7b0a-41c2-9323-cf962f26adc3",
   "metadata": {},
   "outputs": [],
   "source": [
    "binary_initial=[]\n",
    "q_initial=[]\n",
    "for i in range(len(b)):\n",
    "    print('i',i)\n",
    "    for j in range(len(b[i][0])):\n",
    "        if b[i][0][j]['SNe_info'] == 2:\n",
    "            if (b[i][0][j]['N_particles']) ==3:\n",
    "                binary_initial.append(b[i][1])\n",
    "            elif (b[i][0][j]['N_particles']) >3:\n",
    "                print(b[i][0][0]['particles'][0].mass) \n",
    "                m1= b[i][0][0]['particles'][0].mass\n",
    "                m2= b[i][0][0]['particles'][1].mass\n",
    "                m3= b[i][0][0]['particles'][2].mass\n",
    "                q_initial.append(m3/(m1+m2))\n",
    "            else:\n",
    "                print('Hoye!, there is some weird system')"
   ]
  },
  {
   "cell_type": "code",
   "execution_count": null,
   "id": "0880dec2-0767-4c8b-a272-42b7ae678b23",
   "metadata": {},
   "outputs": [],
   "source": [
    "len(q_initial),len(binary_initial)"
   ]
  },
  {
   "cell_type": "code",
   "execution_count": null,
   "id": "bdca5c57-4835-4eaa-84ca-4aeaa6c3245e",
   "metadata": {},
   "outputs": [],
   "source": [
    "plt.hist(q_initial,histtype='step')\n",
    "plt.xlabel('q_initial')\n",
    "plt.title('q_out_Moe')\n",
    "plt.savefig('q_out_Moe')"
   ]
  },
  {
   "cell_type": "code",
   "execution_count": 53,
   "id": "2cb3ec05-7c34-401a-ac17-1ca33ace5da6",
   "metadata": {},
   "outputs": [
    {
     "data": {
      "text/plain": [
       "(31, 31)"
      ]
     },
     "execution_count": 53,
     "metadata": {},
     "output_type": "execute_result"
    }
   ],
   "source": [
    "binary=[]\n",
    "q=[]\n",
    "sm =[]\n",
    "e=[]\n",
    "PA=[]\n",
    "sm_initial=[]\n",
    "e_initial=[]\n",
    "PA_initial=[]\n",
    "mass1=[]\n",
    "mass1_initial=[]\n",
    "for i in range(len(b)):\n",
    "    #print('i',i)\n",
    "    for j in range(len(b[i][0])):\n",
    "        if b[i][0][j]['SNe_info'] == 2:\n",
    "            if (b[i][0][j]['N_particles']) ==2:\n",
    "                binary.append(b[i][1])\n",
    "            elif (b[i][0][j]['N_particles']) >=3:\n",
    "                if (b[i][0][j-1]['binary_index']) != -1:\n",
    "                    #print(b[i][0][j-1])\n",
    "                    b_i = (b[i][0][j-1]['binary_index'])\n",
    "                    for k in range(b[i][0][j]['N_particles']):\n",
    "                        if  b[i][0][j-1]['particles'][k].index == b_i:\n",
    "                            sms =b[i][0][j-1]['particles'][k].a\n",
    "                            es =b[i][0][j-1]['particles'][k].e\n",
    "                            sm.append(sms)\n",
    "                            e.append(b[i][0][j-1]['particles'][k].e)\n",
    "                            PA.append(sms*(1-es))\n",
    "                            sms_i =b[i][0][0]['particles'][k].a\n",
    "                            es_i =b[i][0][0]['particles'][k].e\n",
    "                            sm_initial.append(sms_i)\n",
    "                            e_initial.append(es_i)\n",
    "                            PA_initial.append(sms_i*(1-es_i))\n",
    "                            m1 = b[i][0][j-1]['particles'][k].child1.mass\n",
    "                            m2 = b[i][0][j-1]['particles'][k].child2.mass\n",
    "                            if m1>=m2:\n",
    "                                mass1.append(m1)\n",
    "                            else:\n",
    "                                mass1.append(m2)\n",
    "                            m1_i = b[i][0][0]['particles'][k].child1.mass\n",
    "                            m2_i = b[i][0][0]['particles'][k].child2.mass\n",
    "                            if m1_i>=m2_i:\n",
    "                                mass1_initial.append(m1)\n",
    "                            else:\n",
    "                                mass1_initial.append(m2)\n",
    "                            \n",
    "                            \n",
    "len(sm),len(e)"
   ]
  },
  {
   "cell_type": "code",
   "execution_count": 54,
   "id": "8a4276c6-e829-4e8b-8e59-1a35b565e66e",
   "metadata": {},
   "outputs": [
    {
     "data": {
      "image/png": "[encoded data removed]",
      "text/plain": [
       "<Figure size 432x288 with 1 Axes>"
      ]
     },
     "metadata": {
      "needs_background": "light"
     },
     "output_type": "display_data"
    }
   ],
   "source": [
    "plt.hist(sm,histtype='step')\n",
    "plt.xlabel('sm')\n",
    "plt.title('Semi major axis_Exp')\n",
    "plt.savefig('Semi_major_axis_Exp')"
   ]
  },
  {
   "cell_type": "code",
   "execution_count": 55,
   "id": "28d459ac-25c9-4d84-a8e6-86b18a2911df",
   "metadata": {},
   "outputs": [
    {
     "data": {
      "image/png": "[encoded data removed]",
      "text/plain": [
       "<Figure size 432x288 with 1 Axes>"
      ]
     },
     "metadata": {
      "needs_background": "light"
     },
     "output_type": "display_data"
    }
   ],
   "source": [
    "plt.hist(sm_initial,histtype='step')\n",
    "plt.xlabel('sm')\n",
    "plt.title('Initial Semi major axis Exp')\n",
    "plt.savefig('Initial_Semi_major_axis_Exp')"
   ]
  },
  {
   "cell_type": "code",
   "execution_count": 56,
   "id": "98c12fb4-38e0-4911-bf84-1e824afc7d6d",
   "metadata": {},
   "outputs": [
    {
     "data": {
      "image/png": "[encoded data removed]",
      "text/plain": [
       "<Figure size 432x288 with 1 Axes>"
      ]
     },
     "metadata": {
      "needs_background": "light"
     },
     "output_type": "display_data"
    }
   ],
   "source": [
    "plt.hist(PA,histtype='step')\n",
    "plt.xlabel('r')\n",
    "plt.title('periapsis_distance_Exp')\n",
    "plt.savefig('periapsis_distance_Exp')"
   ]
  },
  {
   "cell_type": "code",
   "execution_count": 57,
   "id": "6ccf2780-9a78-4137-b16f-711296e5dd60",
   "metadata": {},
   "outputs": [
    {
     "data": {
      "image/png": "[encoded data removed]",
      "text/plain": [
       "<Figure size 432x288 with 1 Axes>"
      ]
     },
     "metadata": {
      "needs_background": "light"
     },
     "output_type": "display_data"
    }
   ],
   "source": [
    "plt.hist(e,histtype='step')\n",
    "plt.xlabel('e')\n",
    "plt.title('e_Exp')\n",
    "plt.savefig('e_Exp')"
   ]
  },
  {
   "cell_type": "code",
   "execution_count": 58,
   "id": "1609dacb-c79a-4f2f-98e2-e429e2906368",
   "metadata": {},
   "outputs": [
    {
     "data": {
      "image/png": "[encoded data removed]",
      "text/plain": [
       "<Figure size 432x288 with 1 Axes>"
      ]
     },
     "metadata": {
      "needs_background": "light"
     },
     "output_type": "display_data"
    }
   ],
   "source": [
    "plt.hist(PA_initial,histtype='step')\n",
    "plt.xlabel('r_initial')\n",
    "plt.title('intial_periapsis_distance_Exp')\n",
    "plt.savefig('initial_periapsis_distance_Exp')"
   ]
  },
  {
   "cell_type": "code",
   "execution_count": 59,
   "id": "b24ca5f1-b6d3-4c49-a368-fbe2adc85413",
   "metadata": {},
   "outputs": [
    {
     "data": {
      "image/png": "[encoded data removed]",
      "text/plain": [
       "<Figure size 432x288 with 1 Axes>"
      ]
     },
     "metadata": {
      "needs_background": "light"
     },
     "output_type": "display_data"
    }
   ],
   "source": [
    "plt.hist(e_initial,histtype='step')\n",
    "plt.xlabel('e_initial')\n",
    "plt.title('initial_e_Exp')\n",
    "plt.savefig('initial_e_Exp')"
   ]
  },
  {
   "cell_type": "code",
   "execution_count": 60,
   "id": "5999f891-63f4-43cc-b666-14abe02272e2",
   "metadata": {},
   "outputs": [
    {
     "data": {
      "image/png": "[encoded data removed]",
      "text/plain": [
       "<Figure size 432x288 with 1 Axes>"
      ]
     },
     "metadata": {
      "needs_background": "light"
     },
     "output_type": "display_data"
    }
   ],
   "source": [
    "plt.hist(mass1,histtype='step')\n",
    "plt.xlabel('M1')\n",
    "plt.title('M1_Exp')\n",
    "plt.savefig('M1_Exp')"
   ]
  },
  {
   "cell_type": "code",
   "execution_count": 61,
   "id": "2e951778-8c6c-4fe3-b506-52eebf55c91c",
   "metadata": {},
   "outputs": [
    {
     "data": {
      "image/png": "[encoded data removed]",
      "text/plain": [
       "<Figure size 432x288 with 1 Axes>"
      ]
     },
     "metadata": {
      "needs_background": "light"
     },
     "output_type": "display_data"
    }
   ],
   "source": [
    "plt.hist(mass1_initial,histtype='step')\n",
    "plt.xlabel('M1_initial')\n",
    "plt.title('initial_M1_Exp')\n",
    "plt.savefig('initial_M1_Exp')"
   ]
  },
  {
   "cell_type": "code",
   "execution_count": null,
   "id": "d6eae48f-c31f-435a-bc44-f07c9930ea84",
   "metadata": {},
   "outputs": [],
   "source": []
  }
 ],
 "metadata": {
  "kernelspec": {
   "display_name": "Python 3",
   "language": "python",
   "name": "python3"
  },
  "language_info": {
   "codemirror_mode": {
    "name": "ipython",
    "version": 3
   },
   "file_extension": ".py",
   "mimetype": "text/x-python",
   "name": "python",
   "nbconvert_exporter": "python",
   "pygments_lexer": "ipython3",
   "version": "3.8.8"
  }
 },
 "nbformat": 4,
 "nbformat_minor": 5
}
